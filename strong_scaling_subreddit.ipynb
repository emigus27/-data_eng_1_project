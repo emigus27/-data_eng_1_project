{
 "cells": [
  {
   "cell_type": "code",
   "execution_count": 1,
   "id": "c1bedde2",
   "metadata": {},
   "outputs": [
    {
     "name": "stderr",
     "output_type": "stream",
     "text": [
      "Setting default log level to \"WARN\".\n",
      "To adjust logging level use sc.setLogLevel(newLevel). For SparkR, use setLogLevel(newLevel).\n"
     ]
    }
   ],
   "source": [
    "from pyspark.sql import SparkSession\n",
    "from pyspark.sql.functions import desc\n",
    "\n",
    " \n",
    "spark_session = SparkSession.builder\\\n",
    "        .master(\"spark://192.168.2.92:7077\")\\\n",
    "        .appName(\"strong_scalin_test\")\\\n",
    "        .config(\"spark.cores.max\", 1)\\\n",
    "        .getOrCreate()\n"
   ]
  },
  {
   "cell_type": "code",
   "execution_count": 3,
   "id": "8ecbd6b8",
   "metadata": {},
   "outputs": [
    {
     "name": "stderr",
     "output_type": "stream",
     "text": [
      "                                                                                \r"
     ]
    },
    {
     "name": "stdout",
     "output_type": "stream",
     "text": [
      "Top 10 most commented subreddits\n"
     ]
    },
    {
     "name": "stderr",
     "output_type": "stream",
     "text": [
      "[Stage 6:=======================================================> (50 + 1) / 51]\r"
     ]
    },
    {
     "name": "stdout",
     "output_type": "stream",
     "text": [
      "+----------------+------+\n",
      "|       subreddit| count|\n",
      "+----------------+------+\n",
      "|       AskReddit|264521|\n",
      "|        politics| 99374|\n",
      "|           memes| 70071|\n",
      "|   AmItheAsshole| 43449|\n",
      "|       teenagers| 39997|\n",
      "|       worldnews| 36778|\n",
      "|       dankmemes| 36667|\n",
      "|unpopularopinion| 32387|\n",
      "|             nba| 30070|\n",
      "|      The_Donald| 28331|\n",
      "+----------------+------+\n",
      "\n"
     ]
    },
    {
     "name": "stderr",
     "output_type": "stream",
     "text": [
      "\r\n",
      "                                                                                \r"
     ]
    }
   ],
   "source": [
    "df1 = spark_session.read.json(\"hdfs://192.168.2.92:9000/user/group17/RC_2020-01-29.json\")\n",
    "df1 = df1.drop('author_flair_background_color', 'uthor_flair_css_class',\n",
    "               'author_flair_richtext','author_flair_template_id','author_flair_text',\n",
    "               'author_flair_text_color','author_flair_type','author_patreon_flair',\n",
    "               'gilded','distinguished','locked'\n",
    "               'can_gild','gildings', 'media_metadata','quarantined')\n",
    "subreddit_counts = df1.groupBy(\"subreddit\").count()\n",
    "\n",
    "top_subreddits = subreddit_counts.orderBy(desc(\"count\")).limit(10)\n",
    "print(\"Top 10 most commented subreddits\")\n",
    "top_subreddits.show()"
   ]
  },
  {
   "cell_type": "code",
   "execution_count": 4,
   "id": "90af53d7",
   "metadata": {},
   "outputs": [],
   "source": [
    "spark_session.stop()\n",
    "spark_session = SparkSession.builder\\\n",
    "        .master(\"spark://192.168.2.92:7077\")\\\n",
    "        .appName(\"strong_scalin_test\")\\\n",
    "        .config(\"spark.cores.max\", 2)\\\n",
    "        .getOrCreate()"
   ]
  },
  {
   "cell_type": "code",
   "execution_count": null,
   "id": "21f5df83",
   "metadata": {},
   "outputs": [],
   "source": [
    "df1 = spark_session.read.json(\"hdfs://192.168.2.92:9000/user/group17/RC_2020-01-29.json\")\n",
    "df1 = df1.drop('author_flair_background_color', 'uthor_flair_css_class',\n",
    "               'author_flair_richtext','author_flair_template_id','author_flair_text',\n",
    "               'author_flair_text_color','author_flair_type','author_patreon_flair',\n",
    "               'gilded','distinguished','locked'\n",
    "               'can_gild','gildings', 'media_metadata','quarantined')\n",
    "subreddit_counts = df1.groupBy(\"subreddit\").count()\n",
    "\n",
    "top_subreddits = subreddit_counts.orderBy(desc(\"count\")).limit(10)\n",
    "print(\"Top 10 most commented subreddits\")\n",
    "top_subreddits.show()"
   ]
  },
  {
   "cell_type": "code",
   "execution_count": null,
   "id": "f056ae96",
   "metadata": {},
   "outputs": [],
   "source": [
    "spark_session.stop()\n",
    "spark_session = SparkSession.builder\\\n",
    "        .master(\"spark://192.168.2.92:7077\")\\\n",
    "        .appName(\"strong_scalin_test\")\\\n",
    "        .config(\"spark.cores.max\", 3)\\\n",
    "        .getOrCreate()"
   ]
  },
  {
   "cell_type": "code",
   "execution_count": null,
   "id": "de27d8be",
   "metadata": {},
   "outputs": [],
   "source": [
    "# Alexandre Code on the question 2 and 3\n",
    "#Which has the highest average score per comment?\n",
    "top_subreddits_average_score = df1.groupBy(\"subreddit\").avg(\"score\").orderBy(desc(\"avg(score)\")).limit(10)\n",
    "print(\"Top 10 subreddits with highest average score per comment\")\n",
    "top_subreddits_average_score.show()"
   ]
  },
  {
   "cell_type": "code",
   "execution_count": null,
   "id": "f259d50b",
   "metadata": {},
   "outputs": [],
   "source": [
    "#What is the average number of comments per post in the top 10 most commented subreddits? change the name with top\n",
    "top_subreddits = df1.groupBy(\"subreddit\").count().orderBy(desc(\"count\")).limit(10)\n",
    "top_subreddits = top_subreddits.join(df1.groupBy(\"subreddit\").count().withColumnRenamed(\"count\", \"post_count\"), \"subreddit\")\n",
    "top_subreddits = top_subreddits.withColumn(\"avg_comments_per_post\", top_subreddits[\"count\"]/top_subreddits[\"post_count\"])\n",
    "top_subreddits = top_subreddits.select(\"subreddit\", \"avg_comments_per_post\")\n",
    "print(\"Top 10 subreddits with highest average number of comments per post\")\n",
    "top_subreddits.show()\n"
   ]
  },
  {
   "cell_type": "code",
   "execution_count": null,
   "id": "495131ce",
   "metadata": {},
   "outputs": [],
   "source": []
  }
 ],
 "metadata": {
  "kernelspec": {
   "display_name": "Python 3 (ipykernel)",
   "language": "python",
   "name": "python3"
  },
  "language_info": {
   "codemirror_mode": {
    "name": "ipython",
    "version": 3
   },
   "file_extension": ".py",
   "mimetype": "text/x-python",
   "name": "python",
   "nbconvert_exporter": "python",
   "pygments_lexer": "ipython3",
   "version": "3.9.13"
  }
 },
 "nbformat": 4,
 "nbformat_minor": 5
}
