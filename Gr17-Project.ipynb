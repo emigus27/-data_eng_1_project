{
 "cells": [
  {
   "cell_type": "code",
   "execution_count": 1,
   "id": "1164ef0b",
   "metadata": {},
   "outputs": [
    {
     "name": "stderr",
     "output_type": "stream",
     "text": [
      "Setting default log level to \"WARN\".\n",
      "To adjust logging level use sc.setLogLevel(newLevel). For SparkR, use setLogLevel(newLevel).\n"
     ]
    }
   ],
   "source": [
    "from pyspark.sql import SparkSession\n",
    "from pyspark.sql.functions import desc\n",
    "from pyspark.sql.functions import col\n",
    "from pyspark.sql.functions import lower, explode, split\n",
    "from pyspark.sql.functions import avg\n",
    " \n",
    "spark_session = SparkSession.builder\\\n",
    "        .master(\"spark://192.168.2.92:7077\")\\\n",
    "        .appName(\"ubuntu@group17-master\")\\\n",
    "        .getOrCreate()\n"
   ]
  },
  {
   "cell_type": "code",
   "execution_count": 2,
   "id": "a9d26a26",
   "metadata": {},
   "outputs": [],
   "source": [
    "spark_context = spark_session.sparkContext\n",
    "\n",
    "spark_context.setLogLevel(\"ERROR\")"
   ]
  },
  {
   "cell_type": "code",
   "execution_count": 3,
   "id": "0cc32d45",
   "metadata": {},
   "outputs": [],
   "source": [
    "spark_context = spark_session.sparkContext"
   ]
  },
  {
   "cell_type": "code",
   "execution_count": 4,
   "id": "293e08e5",
   "metadata": {},
   "outputs": [
    {
     "name": "stderr",
     "output_type": "stream",
     "text": [
      "                                                                                \r"
     ]
    }
   ],
   "source": [
    "#df = spark_session.read.json(\"hdfs://192.168.2.92:9000/user/group17/sample_data.json\")\n",
    "df1 = spark_session.read.json(\"hdfs://192.168.2.92:9000/user/group17/RC_2020-01-29.json\")\n"
   ]
  },
  {
   "cell_type": "code",
   "execution_count": 5,
   "id": "05dd68e2",
   "metadata": {},
   "outputs": [],
   "source": [
    "df1 = df1.drop('author_flair_background_color', 'uthor_flair_css_class',\n",
    "               'author_flair_richtext','author_flair_template_id','author_flair_text',\n",
    "               'author_flair_text_color','author_flair_type','author_patreon_flair',\n",
    "               'gilded','distinguished','locked'\n",
    "               'can_gild','gildings', 'media_metadata','quarantined')"
   ]
  },
  {
   "cell_type": "code",
   "execution_count": 5,
   "id": "658135b0",
   "metadata": {},
   "outputs": [
    {
     "name": "stderr",
     "output_type": "stream",
     "text": [
      "                                                                                \r"
     ]
    },
    {
     "data": {
      "text/plain": [
       "Row(all_awardings=[], associated_award=None, author='WestCoastSpiderman', author_cakeday=None, author_created_utc=None, author_flair_background_color=None, author_flair_css_class='packers', author_flair_richtext=[Row(a=None, e='text', t='Packers', u=None)], author_flair_template_id='3bbca72c-3b9e-11ea-9224-0e8e77fdb897', author_flair_text='Packers', author_flair_text_color='dark', author_flair_type='richtext', author_fullname='t2_4jocp94p', author_patreon_flair=False, author_premium=False, awarders=[], body='Got my apartment in Utah 😎', can_gild=True, can_mod_post=False, collapsed=False, collapsed_because_crowd_control=None, collapsed_reason=None, controversiality=0, created_utc=1580256000, distinguished=None, edited='false', gilded=0, gildings=Row(gid_1=None, gid_2=None, gid_3=None), id='ffv5a10', is_submitter=False, link_id='t3_ev83qk', locked=False, media_metadata=None, no_follow=False, parent_id='t3_ev83qk', permalink='/r/nfl/comments/ev83qk/talko_tuesday/ffv5a10/', quarantined=False, removal_reason=None, retrieved_on=1588864115, score=8, send_replies=True, stickied=False, subreddit='nfl', subreddit_id='t5_2qmg3', subreddit_name_prefixed='r/nfl', subreddit_type='public', total_awards_received=0, treatment_tags=[])"
      ]
     },
     "execution_count": 5,
     "metadata": {},
     "output_type": "execute_result"
    }
   ],
   "source": [
    "df1.head()"
   ]
  },
  {
   "cell_type": "code",
   "execution_count": null,
   "id": "0a62d9b5",
   "metadata": {},
   "outputs": [],
   "source": [
    "df1.take(5)"
   ]
  },
  {
   "cell_type": "code",
   "execution_count": 6,
   "id": "f774a2bc",
   "metadata": {},
   "outputs": [
    {
     "name": "stderr",
     "output_type": "stream",
     "text": [
      "                                                                                \r"
     ]
    },
    {
     "data": {
      "text/plain": [
       "DataFrame[summary: string, associated_award: string, author: string, author_created_utc: string, author_flair_background_color: string, author_flair_css_class: string, author_flair_template_id: string, author_flair_text: string, author_flair_text_color: string, author_flair_type: string, author_fullname: string, body: string, collapsed_because_crowd_control: string, collapsed_reason: string, controversiality: string, created_utc: string, distinguished: string, edited: string, gilded: string, id: string, link_id: string, parent_id: string, permalink: string, removal_reason: string, retrieved_on: string, score: string, subreddit: string, subreddit_id: string, subreddit_name_prefixed: string, subreddit_type: string, total_awards_received: string]"
      ]
     },
     "execution_count": 6,
     "metadata": {},
     "output_type": "execute_result"
    }
   ],
   "source": [
    "df1.describe()"
   ]
  },
  {
   "cell_type": "code",
   "execution_count": 7,
   "id": "9cbdbbbe",
   "metadata": {},
   "outputs": [
    {
     "name": "stdout",
     "output_type": "stream",
     "text": [
      "Top 10 most commented subreddits\n"
     ]
    },
    {
     "name": "stderr",
     "output_type": "stream",
     "text": [
      "[Stage 7:>                                                          (0 + 4) / 4]\r"
     ]
    },
    {
     "name": "stdout",
     "output_type": "stream",
     "text": [
      "+----------------+------+\n",
      "|       subreddit| count|\n",
      "+----------------+------+\n",
      "|       AskReddit|264521|\n",
      "|        politics| 99374|\n",
      "|           memes| 70071|\n",
      "|   AmItheAsshole| 43449|\n",
      "|       teenagers| 39997|\n",
      "|       worldnews| 36778|\n",
      "|       dankmemes| 36667|\n",
      "|unpopularopinion| 32387|\n",
      "|             nba| 30070|\n",
      "|      The_Donald| 28331|\n",
      "+----------------+------+\n",
      "\n"
     ]
    },
    {
     "name": "stderr",
     "output_type": "stream",
     "text": [
      "                                                                                \r"
     ]
    }
   ],
   "source": [
    "comments = df1.groupBy(\"subreddit\").count()\n",
    "\n",
    "top_subreddits = comments.orderBy(desc(\"count\")).limit(10)\n",
    "print(\"Top 10 most commented subreddits\")\n",
    "top_subreddits.show()"
   ]
  },
  {
   "cell_type": "code",
   "execution_count": null,
   "id": "6ce69d4b",
   "metadata": {},
   "outputs": [],
   "source": []
  },
  {
   "cell_type": "code",
   "execution_count": 21,
   "id": "20ff25cc",
   "metadata": {},
   "outputs": [
    {
     "name": "stderr",
     "output_type": "stream",
     "text": [
      "[Stage 65:====================================================>   (48 + 3) / 51]\r"
     ]
    },
    {
     "name": "stdout",
     "output_type": "stream",
     "text": [
      "+----------------+------------------------+\n",
      "|       subreddit|first(avg_score_comment)|\n",
      "+----------------+------------------------+\n",
      "|             nba|      21.898636514798802|\n",
      "|   AmItheAsshole|      20.841699463739097|\n",
      "|       AskReddit|       16.33772743940935|\n",
      "|       worldnews|      15.445103050736854|\n",
      "|        politics|      10.098416084690161|\n",
      "|       dankmemes|        9.34930591540077|\n",
      "|      The_Donald|       8.127987010694998|\n",
      "|           memes|       6.723922878223516|\n",
      "|       teenagers|       4.875340650548791|\n",
      "|unpopularopinion|      3.4307283786704543|\n",
      "+----------------+------------------------+\n",
      "\n"
     ]
    },
    {
     "name": "stderr",
     "output_type": "stream",
     "text": [
      "                                                                                \r"
     ]
    }
   ],
   "source": [
    "score = df1.select(\"subreddit\", \"score\")\n",
    "\n",
    "score = score.groupBy(\"subreddit\")\n",
    "score = score.agg(avg(\"score\").alias(\"avg_score_comment\"))\n",
    "\n",
    "topten_subreddits = [\"AskReddit\", \"politics\", \"memes\", \"AmItheAsshole\",\n",
    "                     \"teenagers\", \"worldnews\", \"dankmemes\", \n",
    "                     \"unpopularopinion\", \"nba\", \"The_Donald\"]\n",
    "\n",
    "score = score.filter(score.subreddit.isin(topten_subreddits))\n",
    "highest_scores = score.groupBy(\"subreddit\").agg({\"avg_score_comment\": \"first\"})\n",
    "highest_scores = highest_scores.orderBy(desc(\"first(avg_score_comment)\"))\n",
    "highest_scores.show()"
   ]
  },
  {
   "cell_type": "code",
   "execution_count": null,
   "id": "4bdac1be",
   "metadata": {},
   "outputs": [],
   "source": []
  },
  {
   "cell_type": "code",
   "execution_count": 13,
   "id": "4089c5e3",
   "metadata": {},
   "outputs": [],
   "source": [
    "spark_session.stop()"
   ]
  },
  {
   "cell_type": "code",
   "execution_count": null,
   "id": "254b4f49",
   "metadata": {},
   "outputs": [],
   "source": []
  }
 ],
 "metadata": {
  "kernelspec": {
   "display_name": "Python 3 (ipykernel)",
   "language": "python",
   "name": "python3"
  },
  "language_info": {
   "codemirror_mode": {
    "name": "ipython",
    "version": 3
   },
   "file_extension": ".py",
   "mimetype": "text/x-python",
   "name": "python",
   "nbconvert_exporter": "python",
   "pygments_lexer": "ipython3",
   "version": "3.10.6"
  }
 },
 "nbformat": 4,
 "nbformat_minor": 5
}
