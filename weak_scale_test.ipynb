{
 "cells": [
  {
   "cell_type": "code",
   "execution_count": 21,
   "id": "624724f8",
   "metadata": {},
   "outputs": [
    {
     "name": "stderr",
     "output_type": "stream",
     "text": [
      "                                                                                \r"
     ]
    }
   ],
   "source": [
    "from pyspark.sql import SparkSession\n",
    "from pyspark.sql.functions import desc\n",
    "\n",
    " \n",
    "spark_session = SparkSession.builder\\\n",
    "        .master(\"spark://192.168.2.92:7077\")\\\n",
    "        .appName(\"weak_scalin_test\")\\\n",
    "        .config(\"spark.cores.max\", 1)\\\n",
    "        .getOrCreate()\n",
    "df1 = spark_session.read.json(\"hdfs://192.168.2.92:9000/user/group17/RC_2020-01-29.json/\").limit(1000000)"
   ]
  },
  {
   "cell_type": "code",
   "execution_count": 22,
   "id": "4771129d",
   "metadata": {},
   "outputs": [
    {
     "name": "stdout",
     "output_type": "stream",
     "text": [
      "Top 10 most commented subreddits\n"
     ]
    },
    {
     "name": "stderr",
     "output_type": "stream",
     "text": [
      "[Stage 3:>                                                          (0 + 1) / 1]\r"
     ]
    },
    {
     "name": "stdout",
     "output_type": "stream",
     "text": [
      "+----------------+-----+\n",
      "|       subreddit|count|\n",
      "+----------------+-----+\n",
      "|       AskReddit|61015|\n",
      "|        politics|17866|\n",
      "|             nba|11480|\n",
      "|           memes|10902|\n",
      "|       teenagers| 8976|\n",
      "|   AmItheAsshole| 8080|\n",
      "|            news| 6569|\n",
      "|      The_Donald| 6052|\n",
      "|       worldnews| 5782|\n",
      "|unpopularopinion| 5598|\n",
      "+----------------+-----+\n",
      "\n"
     ]
    },
    {
     "name": "stderr",
     "output_type": "stream",
     "text": [
      "\r",
      "                                                                                \r"
     ]
    }
   ],
   "source": [
    "df1 = df1.drop('author_flair_background_color', 'author_flair_css_class',\n",
    "               'author_flair_richtext','author_flair_template_id','author_flair_text',\n",
    "               'author_flair_text_color','author_flair_type','author_patreon_flair',\n",
    "               'gilded','distinguished','locked'\n",
    "               'can_gild','gildings', 'media_metadata','quarantined')\n",
    "df1 = df1.groupBy(\"subreddit\").count()\n",
    "df1 = df1.orderBy(desc(\"count\")).limit(10)\n",
    "print(\"Top 10 most commented subreddits\")\n",
    "df1.show()"
   ]
  },
  {
   "cell_type": "code",
   "execution_count": 12,
   "id": "46f74083",
   "metadata": {},
   "outputs": [
    {
     "name": "stderr",
     "output_type": "stream",
     "text": [
      "                                                                                \r"
     ]
    }
   ],
   "source": [
    "spark_session.stop()\n",
    "spark_session = SparkSession.builder\\\n",
    "        .master(\"spark://192.168.2.92:7077\")\\\n",
    "        .appName(\"weak_scalin_test\")\\\n",
    "        .config(\"spark.cores.max\", 2)\\\n",
    "        .getOrCreate()\n",
    "df1 = spark_session.read.json(\"hdfs://192.168.2.92:9000/user/group17/RC_2020-01-29.json/\").limit(2000000)"
   ]
  },
  {
   "cell_type": "code",
   "execution_count": 13,
   "id": "5bd29de5",
   "metadata": {},
   "outputs": [
    {
     "name": "stdout",
     "output_type": "stream",
     "text": [
      "Top 10 most commented subreddits\n"
     ]
    },
    {
     "name": "stderr",
     "output_type": "stream",
     "text": [
      "[Stage 3:>                                                          (0 + 1) / 1]\r"
     ]
    },
    {
     "name": "stdout",
     "output_type": "stream",
     "text": [
      "+----------------+------+\n",
      "|       subreddit| count|\n",
      "+----------------+------+\n",
      "|       AskReddit|107081|\n",
      "|        politics| 29614|\n",
      "|           memes| 27086|\n",
      "|       teenagers| 16161|\n",
      "|   AmItheAsshole| 16060|\n",
      "|       dankmemes| 14811|\n",
      "|       worldnews| 13692|\n",
      "|             nba| 13594|\n",
      "|unpopularopinion| 11231|\n",
      "|            news| 10262|\n",
      "+----------------+------+\n",
      "\n"
     ]
    },
    {
     "name": "stderr",
     "output_type": "stream",
     "text": [
      "\r",
      "                                                                                \r"
     ]
    }
   ],
   "source": [
    "\n",
    "df1 = df1.drop('author_flair_background_color', 'author_flair_css_class',\n",
    "               'author_flair_richtext','author_flair_template_id','author_flair_text',\n",
    "               'author_flair_text_color','author_flair_type','author_patreon_flair',\n",
    "               'gilded','distinguished','locked'\n",
    "               'can_gild','gildings', 'media_metadata','quarantined')\n",
    "df1 = df1.groupBy(\"subreddit\").count()\n",
    "df1 = df1.orderBy(desc(\"count\")).limit(10)\n",
    "print(\"Top 10 most commented subreddits\")\n",
    "df1.show()"
   ]
  },
  {
   "cell_type": "code",
   "execution_count": 27,
   "id": "554fa0d0",
   "metadata": {},
   "outputs": [
    {
     "name": "stderr",
     "output_type": "stream",
     "text": [
      "                                                                                \r"
     ]
    },
    {
     "data": {
      "text/plain": [
       "3000000"
      ]
     },
     "execution_count": 27,
     "metadata": {},
     "output_type": "execute_result"
    }
   ],
   "source": [
    "spark_session.stop()\n",
    "spark_session = SparkSession.builder\\\n",
    "        .master(\"spark://192.168.2.92:7077\")\\\n",
    "        .appName(\"weak_scalin_test\")\\\n",
    "        .config(\"spark.cores.max\", 3)\\\n",
    "        .getOrCreate()\n",
    "df1 = spark_session.read.json(\"hdfs://192.168.2.92:9000/user/group17/RC_2020-01-29.json/\").limit(3000000)\n",
    "df1.count()"
   ]
  },
  {
   "cell_type": "code",
   "execution_count": 26,
   "id": "412978be",
   "metadata": {},
   "outputs": [
    {
     "name": "stdout",
     "output_type": "stream",
     "text": [
      "Top 10 most commented subreddits\n"
     ]
    },
    {
     "name": "stderr",
     "output_type": "stream",
     "text": [
      "[Stage 6:>                                                          (0 + 1) / 1]\r"
     ]
    },
    {
     "name": "stdout",
     "output_type": "stream",
     "text": [
      "+----------------+------+\n",
      "|       subreddit| count|\n",
      "+----------------+------+\n",
      "|       AskReddit|158394|\n",
      "|        politics| 52418|\n",
      "|           memes| 41617|\n",
      "|   AmItheAsshole| 24787|\n",
      "|       teenagers| 23217|\n",
      "|       dankmemes| 21096|\n",
      "|       worldnews| 20709|\n",
      "|             nba| 18352|\n",
      "|unpopularopinion| 17963|\n",
      "|      The_Donald| 16025|\n",
      "+----------------+------+\n",
      "\n"
     ]
    },
    {
     "name": "stderr",
     "output_type": "stream",
     "text": [
      "\r",
      "                                                                                \r"
     ]
    }
   ],
   "source": [
    "df1 = df1.drop('author_flair_background_color', 'author_flair_css_class',\n",
    "               'author_flair_richtext','author_flair_template_id','author_flair_text',\n",
    "               'author_flair_text_color','author_flair_type','author_patreon_flair',\n",
    "               'gilded','distinguished','locked'\n",
    "               'can_gild','gildings', 'media_metadata','quarantined')\n",
    "df1 = df1.groupBy(\"subreddit\").count()\n",
    "df1 = df1.orderBy(desc(\"count\")).limit(10)\n",
    "print(\"Top 10 most commented subreddits\")\n",
    "df1.show()"
   ]
  },
  {
   "cell_type": "code",
   "execution_count": null,
   "id": "3f1ec228",
   "metadata": {},
   "outputs": [
    {
     "name": "stderr",
     "output_type": "stream",
     "text": [
      "\r",
      "[Stage 0:>                                                         (0 + 0) / 51]\r"
     ]
    }
   ],
   "source": [
    "spark_session.stop()\n",
    "spark_session = SparkSession.builder\\\n",
    "        .master(\"spark://192.168.2.92:7077\")\\\n",
    "        .appName(\"weak_scalin_test\")\\\n",
    "        .config(\"spark.cores.max\", 4)\\\n",
    "        .getOrCreate()\n",
    "df1 = spark_session.read.json(\"hdfs://192.168.2.92:9000/user/group17/RC_2020-01-29.json/\").limit(4000000)\n"
   ]
  },
  {
   "cell_type": "code",
   "execution_count": 32,
   "id": "17b683d7",
   "metadata": {},
   "outputs": [
    {
     "name": "stdout",
     "output_type": "stream",
     "text": [
      "Top 10 most commented subreddits\n"
     ]
    },
    {
     "name": "stderr",
     "output_type": "stream",
     "text": [
      "[Stage 3:>                                                          (0 + 1) / 1]\r"
     ]
    },
    {
     "name": "stdout",
     "output_type": "stream",
     "text": [
      "+----------------+------+\n",
      "|       subreddit| count|\n",
      "+----------------+------+\n",
      "|       AskReddit|210233|\n",
      "|        politics| 77115|\n",
      "|           memes| 53174|\n",
      "|   AmItheAsshole| 33570|\n",
      "|       teenagers| 31273|\n",
      "|       worldnews| 28193|\n",
      "|       dankmemes| 26954|\n",
      "|             nba| 25589|\n",
      "|unpopularopinion| 24611|\n",
      "|      The_Donald| 22238|\n",
      "+----------------+------+\n",
      "\n"
     ]
    },
    {
     "name": "stderr",
     "output_type": "stream",
     "text": [
      "\r",
      "                                                                                \r"
     ]
    }
   ],
   "source": [
    "df1 = df1.drop('author_flair_background_color', 'author_flair_css_class',\n",
    "               'author_flair_richtext','author_flair_template_id','author_flair_text',\n",
    "               'author_flair_text_color','author_flair_type','author_patreon_flair',\n",
    "               'gilded','distinguished','locked'\n",
    "               'can_gild','gildings', 'media_metadata','quarantined')\n",
    "df1 = df1.groupBy(\"subreddit\").count()\n",
    "df1 = df1.orderBy(desc(\"count\")).limit(10)\n",
    "print(\"Top 10 most commented subreddits\")\n",
    "df1.show()"
   ]
  },
  {
   "cell_type": "code",
   "execution_count": null,
   "id": "1e628d27",
   "metadata": {},
   "outputs": [],
   "source": []
  }
 ],
 "metadata": {
  "kernelspec": {
   "display_name": "Python 3 (ipykernel)",
   "language": "python",
   "name": "python3"
  },
  "language_info": {
   "codemirror_mode": {
    "name": "ipython",
    "version": 3
   },
   "file_extension": ".py",
   "mimetype": "text/x-python",
   "name": "python",
   "nbconvert_exporter": "python",
   "pygments_lexer": "ipython3",
   "version": "3.10.6"
  }
 },
 "nbformat": 4,
 "nbformat_minor": 5
}
